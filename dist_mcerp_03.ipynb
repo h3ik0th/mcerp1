{
 "cells": [
  {
   "cell_type": "code",
   "execution_count": 1,
   "metadata": {},
   "outputs": [],
   "source": [
    "%matplotlib inline\n",
    "import pandas as pd\n",
    "import numpy as np\n",
    "import matplotlib.pyplot as plt\n",
    "\n",
    "from mcerp import correlate, correlation_matrix, plotcorr\n",
    "from mcerp import Beta, N, Exp, PERT\n",
    "from mcerp import uv, stats\n",
    "# from mcerp import *\n",
    "\n",
    "from scipy import stats as stats\n",
    "from scipy.stats import rv_continuous, beta, genextreme, rv_histogram\n",
    "import scipy.optimize as opt\n",
    "\n",
    "\n",
    "import warnings\n",
    "warnings.filterwarnings(\"ignore\")\n",
    "\n",
    "np.set_printoptions(precision=3, suppress=True)\n",
    "pd.options.display.float_format = '{:.3f}'.format\n",
    "\n",
    "nR = 10000"
   ]
  },
  {
   "cell_type": "markdown",
   "metadata": {},
   "source": [
    "# Simulation without correlations"
   ]
  },
  {
   "cell_type": "code",
   "execution_count": 2,
   "metadata": {},
   "outputs": [],
   "source": [
    "# distribution parameters:\n",
    "min, mode, max, lmb = 8000.0, 12000.0, 18000.0, 4.0         # sales volume, PERT estimae\n",
    "ms, ss = 20.0, 1.0                                          # selling price, normally distributed\n",
    "mm, sm = 13.0, 0.7                                          # material unit cost, normally distributed \n",
    "o = 3.0                                                     # other unit cost, deterministic    "
   ]
  },
  {
   "cell_type": "code",
   "execution_count": 3,
   "metadata": {},
   "outputs": [],
   "source": [
    "# setting up the simulation model BEFORE calibrating correlations:\n",
    "\n",
    "# input variables:\n",
    "v1 = PERT(min, mode, max, lmb)                  # sales volume, PERT distributed\n",
    "p1 = N(ms, ss)                                  # selling price, normally distributed\n",
    "m1 = N(mm, sm)                                  # material unit cost, normally distributed \n",
    "o1 = o                                          # other unit cost, deterministic    \n",
    "\n",
    "\n",
    "# output variables:\n",
    "GP1 = v1 * (p1 - m1 - o1)                       # simulation output: Gross Profit\n",
    "R1 = v1 * p1                                    # simulation output: Revenues\n",
    "GM1 = GP1 / R1                                  # simulation output: Gross Margin\n",
    "C1 = R1 - GP1                                   # simulation output: Total Cost\n"
   ]
  },
  {
   "cell_type": "code",
   "execution_count": 4,
   "metadata": {},
   "outputs": [
    {
     "data": {
      "text/html": [
       "<div>\n",
       "<style scoped>\n",
       "    .dataframe tbody tr th:only-of-type {\n",
       "        vertical-align: middle;\n",
       "    }\n",
       "\n",
       "    .dataframe tbody tr th {\n",
       "        vertical-align: top;\n",
       "    }\n",
       "\n",
       "    .dataframe thead th {\n",
       "        text-align: right;\n",
       "    }\n",
       "</style>\n",
       "<table border=\"1\" class=\"dataframe\">\n",
       "  <thead>\n",
       "    <tr style=\"text-align: right;\">\n",
       "      <th></th>\n",
       "      <th>volume 1</th>\n",
       "      <th>price 1</th>\n",
       "      <th>material 1</th>\n",
       "      <th>Gross Profit 1</th>\n",
       "      <th>Revenues 1</th>\n",
       "      <th>Gross Margin 1</th>\n",
       "    </tr>\n",
       "  </thead>\n",
       "  <tbody>\n",
       "    <tr>\n",
       "      <th>0</th>\n",
       "      <td>11480.681</td>\n",
       "      <td>18.618</td>\n",
       "      <td>14.176</td>\n",
       "      <td>16564.357</td>\n",
       "      <td>213751.904</td>\n",
       "      <td>0.077</td>\n",
       "    </tr>\n",
       "    <tr>\n",
       "      <th>1</th>\n",
       "      <td>10343.172</td>\n",
       "      <td>20.693</td>\n",
       "      <td>13.809</td>\n",
       "      <td>40171.651</td>\n",
       "      <td>214028.650</td>\n",
       "      <td>0.188</td>\n",
       "    </tr>\n",
       "    <tr>\n",
       "      <th>2</th>\n",
       "      <td>14867.048</td>\n",
       "      <td>21.718</td>\n",
       "      <td>12.728</td>\n",
       "      <td>89055.138</td>\n",
       "      <td>322887.755</td>\n",
       "      <td>0.276</td>\n",
       "    </tr>\n",
       "    <tr>\n",
       "      <th>3</th>\n",
       "      <td>11163.539</td>\n",
       "      <td>21.186</td>\n",
       "      <td>13.432</td>\n",
       "      <td>53068.835</td>\n",
       "      <td>236506.013</td>\n",
       "      <td>0.224</td>\n",
       "    </tr>\n",
       "    <tr>\n",
       "      <th>4</th>\n",
       "      <td>12352.884</td>\n",
       "      <td>19.381</td>\n",
       "      <td>13.019</td>\n",
       "      <td>41533.493</td>\n",
       "      <td>239416.891</td>\n",
       "      <td>0.173</td>\n",
       "    </tr>\n",
       "    <tr>\n",
       "      <th>...</th>\n",
       "      <td>...</td>\n",
       "      <td>...</td>\n",
       "      <td>...</td>\n",
       "      <td>...</td>\n",
       "      <td>...</td>\n",
       "      <td>...</td>\n",
       "    </tr>\n",
       "    <tr>\n",
       "      <th>9995</th>\n",
       "      <td>12852.080</td>\n",
       "      <td>19.375</td>\n",
       "      <td>12.106</td>\n",
       "      <td>54862.810</td>\n",
       "      <td>249006.343</td>\n",
       "      <td>0.220</td>\n",
       "    </tr>\n",
       "    <tr>\n",
       "      <th>9996</th>\n",
       "      <td>11277.655</td>\n",
       "      <td>20.471</td>\n",
       "      <td>13.685</td>\n",
       "      <td>42694.195</td>\n",
       "      <td>230859.724</td>\n",
       "      <td>0.185</td>\n",
       "    </tr>\n",
       "    <tr>\n",
       "      <th>9997</th>\n",
       "      <td>12099.811</td>\n",
       "      <td>20.632</td>\n",
       "      <td>14.397</td>\n",
       "      <td>39146.857</td>\n",
       "      <td>249647.151</td>\n",
       "      <td>0.157</td>\n",
       "    </tr>\n",
       "    <tr>\n",
       "      <th>9998</th>\n",
       "      <td>11104.419</td>\n",
       "      <td>19.215</td>\n",
       "      <td>14.094</td>\n",
       "      <td>23558.099</td>\n",
       "      <td>213372.020</td>\n",
       "      <td>0.110</td>\n",
       "    </tr>\n",
       "    <tr>\n",
       "      <th>9999</th>\n",
       "      <td>13171.336</td>\n",
       "      <td>19.601</td>\n",
       "      <td>13.627</td>\n",
       "      <td>39165.074</td>\n",
       "      <td>258168.477</td>\n",
       "      <td>0.152</td>\n",
       "    </tr>\n",
       "  </tbody>\n",
       "</table>\n",
       "<p>10000 rows × 6 columns</p>\n",
       "</div>"
      ],
      "text/plain": [
       "      volume 1  price 1  material 1  Gross Profit 1  Revenues 1  \\\n",
       "0    11480.681   18.618      14.176       16564.357  213751.904   \n",
       "1    10343.172   20.693      13.809       40171.651  214028.650   \n",
       "2    14867.048   21.718      12.728       89055.138  322887.755   \n",
       "3    11163.539   21.186      13.432       53068.835  236506.013   \n",
       "4    12352.884   19.381      13.019       41533.493  239416.891   \n",
       "...        ...      ...         ...             ...         ...   \n",
       "9995 12852.080   19.375      12.106       54862.810  249006.343   \n",
       "9996 11277.655   20.471      13.685       42694.195  230859.724   \n",
       "9997 12099.811   20.632      14.397       39146.857  249647.151   \n",
       "9998 11104.419   19.215      14.094       23558.099  213372.020   \n",
       "9999 13171.336   19.601      13.627       39165.074  258168.477   \n",
       "\n",
       "      Gross Margin 1  \n",
       "0              0.077  \n",
       "1              0.188  \n",
       "2              0.276  \n",
       "3              0.224  \n",
       "4              0.173  \n",
       "...              ...  \n",
       "9995           0.220  \n",
       "9996           0.185  \n",
       "9997           0.157  \n",
       "9998           0.110  \n",
       "9999           0.152  \n",
       "\n",
       "[10000 rows x 6 columns]"
      ]
     },
     "execution_count": 4,
     "metadata": {},
     "output_type": "execute_result"
    }
   ],
   "source": [
    "# run the simulation model, \n",
    "# and collect the results in array variables\n",
    "\n",
    "# number of mcerp samples\n",
    "npts = nR\n",
    "\n",
    "# assign the 6x 10,000 values to 6 variables so we can process their arrays later\n",
    "rv1 = v1._mcpts\n",
    "rp1 = p1._mcpts\n",
    "rm1 = m1._mcpts\n",
    "rGP1 = GP1._mcpts\n",
    "rR1 = R1._mcpts\n",
    "rGM1 = GM1._mcpts\n",
    "\n",
    "# combine the 6 arrays in a 2-dimensional array\n",
    "rand1 = np.vstack((rv1, rp1, rm1, rGP1, rR1, rGM1))\n",
    "\n",
    "# copy the array to a dataframe for a more transparent layout\n",
    "df1 = pd.DataFrame(data=rand1).T \n",
    "df1.rename(columns={ \n",
    "    0:\"volume 1\", 1:\"price 1\", 2:\"material 1\", 3:\"Gross Profit 1\", 4:\"Revenues 1\", 5:\"Gross Margin 1\"}, \n",
    "    inplace=True)\n",
    "df1\n"
   ]
  },
  {
   "cell_type": "code",
   "execution_count": 5,
   "metadata": {},
   "outputs": [],
   "source": [
    "# helper function: plot histogram\n",
    "def plot_hist(data, title):\n",
    "    hist = np.histogram(data, bins=100)\n",
    "    histdist = rv_histogram(hist)\n",
    "\n",
    "    X = np.linspace(data.min(), data.max(), 100)\n",
    "    plt.title(title)\n",
    "    plt.hist(data, density=True, bins=100)\n",
    "    plt.plot(X, histdist.pdf(X))\n",
    "    plt.show()"
   ]
  },
  {
   "cell_type": "code",
   "execution_count": 6,
   "metadata": {},
   "outputs": [
    {
     "data": {
      "image/png": "[encoded data removed]",
      "text/plain": [
       "<Figure size 432x288 with 1 Axes>"
      ]
     },
     "metadata": {
      "needs_background": "light"
     },
     "output_type": "display_data"
    },
    {
     "data": {
      "image/png": "[encoded data removed]",
      "text/plain": [
       "<Figure size 432x288 with 1 Axes>"
      ]
     },
     "metadata": {
      "needs_background": "light"
     },
     "output_type": "display_data"
    },
    {
     "data": {
      "image/png": "[encoded data removed]",
      "text/plain": [
       "<Figure size 432x288 with 1 Axes>"
      ]
     },
     "metadata": {
      "needs_background": "light"
     },
     "output_type": "display_data"
    },
    {
     "data": {
      "image/png": "[encoded data removed]",
      "text/plain": [
       "<Figure size 432x288 with 1 Axes>"
      ]
     },
     "metadata": {
      "needs_background": "light"
     },
     "output_type": "display_data"
    },
    {
     "data": {
      "image/png": "[encoded data removed]",
      "text/plain": [
       "<Figure size 432x288 with 1 Axes>"
      ]
     },
     "metadata": {
      "needs_background": "light"
     },
     "output_type": "display_data"
    }
   ],
   "source": [
    "# results: draw histograms\n",
    "plot_hist(rGP1, \"Gross Profit 1\")\n",
    "plot_hist(rR1, \"Revenues 1\")\n",
    "plot_hist(rGM1, \"%Gross Margin 1\")\n",
    "plot_hist(rv1, \"sales volume 1\")\n",
    "plot_hist(rp1, \"selling price 1\")\n"
   ]
  },
  {
   "cell_type": "code",
   "execution_count": 7,
   "metadata": {},
   "outputs": [],
   "source": [
    "# distribution properties of the inputs: moments\n",
    "def input_moments(v, p, m):\n",
    "    # simulation inputs: moments\n",
    "    print(\"sales volume:\")\n",
    "    v1.describe()\n",
    "    print(\"selling price:\")\n",
    "    p1.describe()\n",
    "    print(\"raw material unit cost:\")\n",
    "    m1.describe()"
   ]
  },
  {
   "cell_type": "code",
   "execution_count": 8,
   "metadata": {},
   "outputs": [],
   "source": [
    "# simulation output: moments\n",
    "def output_moments(GP, R, GM, C):\n",
    "    print(\"Gross Profit:\")\n",
    "    GP1.describe()\n",
    "    print(\"Revenues:\")\n",
    "    R1.describe()\n",
    "    print(\"Gross Margin:\")\n",
    "    GM1.describe()\n",
    "    print(\"Total Cost:\")\n",
    "    C1.describe()"
   ]
  },
  {
   "cell_type": "code",
   "execution_count": 9,
   "metadata": {},
   "outputs": [
    {
     "name": "stdout",
     "output_type": "stream",
     "text": [
      "sales volume:\n",
      "MCERP Uncertain Value:\n",
      " > Mean...................  12333.33083506654\n",
      " > Variance...............  3507888.890180063\n",
      " > Skewness Coefficient...  0.17793280021612795\n",
      " > Kurtosis Coefficient...  2.375420890626274\n",
      "\n",
      "selling price:\n",
      "MCERP Uncertain Value:\n",
      " > Mean...................  20.000001014447374\n",
      " > Variance...............  0.9998771951673667\n",
      " > Skewness Coefficient... -3.930118762284572e-05\n",
      " > Kurtosis Coefficient...  2.9966380254789406\n",
      "\n",
      "raw material unit cost:\n",
      "MCERP Uncertain Value:\n",
      " > Mean...................  12.999986855565242\n",
      " > Variance...............  0.48992093877336684\n",
      " > Skewness Coefficient... -0.0008522291598882486\n",
      " > Kurtosis Coefficient...  2.9953503019154404\n",
      "\n"
     ]
    }
   ],
   "source": [
    "# get the simulation results:\n",
    "inmom1 = input_moments(v1, p1, m1)\n",
    "inmom1\n"
   ]
  },
  {
   "cell_type": "code",
   "execution_count": 10,
   "metadata": {},
   "outputs": [
    {
     "name": "stdout",
     "output_type": "stream",
     "text": [
      "Gross Profit:\n",
      "MCERP Uncertain Value:\n",
      " > Mean...................  49351.35962662986\n",
      " > Variance...............  282772136.0366073\n",
      " > Skewness Coefficient...  0.3490907749404397\n",
      " > Kurtosis Coefficient...  3.289658736913242\n",
      "\n",
      "Revenues:\n",
      "MCERP Uncertain Value:\n",
      " > Mean...................  246672.57674020086\n",
      " > Variance...............  1561548099.1185029\n",
      " > Skewness Coefficient...  0.23931730924414857\n",
      " > Kurtosis Coefficient...  2.5663575425272014\n",
      "\n",
      "Gross Margin:\n",
      "MCERP Uncertain Value:\n",
      " > Mean...................  0.19804324058179187\n",
      " > Variance...............  0.0027738414401548253\n",
      " > Skewness Coefficient... -0.2301761891754654\n",
      " > Kurtosis Coefficient...  3.124013495942665\n",
      "\n",
      "Total Cost:\n",
      "MCERP Uncertain Value:\n",
      " > Mean...................  197321.21711357098\n",
      " > Variance...............  968666032.8639883\n",
      " > Skewness Coefficient...  0.21746779102470498\n",
      " > Kurtosis Coefficient...  2.5172970944001123\n",
      "\n"
     ]
    }
   ],
   "source": [
    "# get the simulation results:\n",
    "outmom1 = output_moments(GP1, R1, GM1, C1)\n",
    "outmom1"
   ]
  },
  {
   "cell_type": "code",
   "execution_count": 11,
   "metadata": {},
   "outputs": [
    {
     "data": {
      "text/plain": [
       "array([[ 1.   ,  0.003, -0.009],\n",
       "       [ 0.003,  1.   ,  0.033],\n",
       "       [-0.009,  0.033,  1.   ]])"
      ]
     },
     "execution_count": 11,
     "metadata": {},
     "output_type": "execute_result"
    }
   ],
   "source": [
    "# get the correlation matrix BEFORE recalibrating\n",
    "c1 = correlation_matrix([v1, p1, m1])\n",
    "c1"
   ]
  },
  {
   "cell_type": "code",
   "execution_count": 12,
   "metadata": {},
   "outputs": [
    {
     "data": {
      "image/png": "[encoded data removed]",
      "text/plain": [
       "<Figure size 576x576 with 9 Axes>"
      ]
     },
     "metadata": {
      "needs_background": "light"
     },
     "output_type": "display_data"
    }
   ],
   "source": [
    "# plot correlations BEFORE recalibrating\n",
    "corrplot0 = plotcorr([v1, p1, m1], labels=[\"volume 1\", \"price 1\", \"raw material 1\"])"
   ]
  },
  {
   "cell_type": "code",
   "execution_count": 13,
   "metadata": {},
   "outputs": [],
   "source": [
    "mean1 = GP1.mean\n",
    "std1 = GP1.std\n",
    "skew1 = GP1.skew\n",
    "kurt1 = GP1.kurt\n",
    "moments1 = [mean1, std1, skew1, kurt1]"
   ]
  },
  {
   "cell_type": "markdown",
   "metadata": {},
   "source": [
    "# Impose different correlations"
   ]
  },
  {
   "cell_type": "code",
   "execution_count": 14,
   "metadata": {},
   "outputs": [],
   "source": [
    "# targeted correlation matrix: volume, price, material unit cost\n",
    "c_target = np.array(    [[  1.0, -0.3,  0.2],\n",
    "                        [  -0.3,  1.0,  0.7],\n",
    "                        [   0.2,  0.7,  1.0]])"
   ]
  },
  {
   "cell_type": "code",
   "execution_count": 15,
   "metadata": {},
   "outputs": [],
   "source": [
    "v2 = PERT(min, mode, max, lmb)                  # sales volume, PERT distributed\n",
    "p2 = N(ms, ss)                                  # selling price, normally distributed\n",
    "m2 = N(mm, sm)                                  # material unit cost, normally distributed \n",
    "o2 = o                                          # other unit cost, deterministic    "
   ]
  },
  {
   "cell_type": "code",
   "execution_count": 16,
   "metadata": {},
   "outputs": [],
   "source": [
    "# impose the targeted correlation matrix on the 3 input variables\n",
    "correlate([v2, p2, m2], c_target)\n"
   ]
  },
  {
   "cell_type": "code",
   "execution_count": 17,
   "metadata": {},
   "outputs": [
    {
     "data": {
      "image/png": "[encoded data removed]",
      "text/plain": [
       "<Figure size 576x576 with 9 Axes>"
      ]
     },
     "metadata": {
      "needs_background": "light"
     },
     "output_type": "display_data"
    }
   ],
   "source": [
    "# plot the new correlation matrix of the input variables\n",
    "corrplot2 = plotcorr([v2, p2, m2], labels=[\"volume 2\", \"price 2\", \"raw material 2\"])"
   ]
  },
  {
   "cell_type": "code",
   "execution_count": 18,
   "metadata": {},
   "outputs": [
    {
     "data": {
      "text/plain": [
       "array([[ 1.   , -0.298,  0.199],\n",
       "       [-0.298,  1.   ,  0.7  ],\n",
       "       [ 0.199,  0.7  ,  1.   ]])"
      ]
     },
     "execution_count": 18,
     "metadata": {},
     "output_type": "execute_result"
    }
   ],
   "source": [
    "# check the new correlation matrix for the 3 input variables\n",
    "c2 = correlation_matrix([v2, p2, m2])\n",
    "c2"
   ]
  },
  {
   "cell_type": "code",
   "execution_count": 19,
   "metadata": {},
   "outputs": [
    {
     "data": {
      "text/plain": [
       "array([[ 0.   ,  0.002, -0.001],\n",
       "       [ 0.002,  0.   , -0.   ],\n",
       "       [-0.001, -0.   ,  0.   ]])"
      ]
     },
     "execution_count": 19,
     "metadata": {},
     "output_type": "execute_result"
    }
   ],
   "source": [
    "# deviations from targeted correlations?\n",
    "c2 - c_target"
   ]
  },
  {
   "cell_type": "code",
   "execution_count": 20,
   "metadata": {},
   "outputs": [
    {
     "data": {
      "text/plain": [
       "array([[ 0.   , -0.301,  0.208],\n",
       "       [-0.301,  0.   ,  0.667],\n",
       "       [ 0.208,  0.667,  0.   ]])"
      ]
     },
     "execution_count": 20,
     "metadata": {},
     "output_type": "execute_result"
    }
   ],
   "source": [
    "# induced changes vs original correlations\n",
    "c2 - c1"
   ]
  },
  {
   "cell_type": "code",
   "execution_count": 21,
   "metadata": {},
   "outputs": [],
   "source": [
    "# output variables:\n",
    "# we rename the output variables to use consistent variable names in simu1 and simu2\n",
    "GP2 = v2 * (p2 - m2 - o2)                       # simulation output: Gross Profit\n",
    "R2 = v2 * p2                                    # simulation output: Revenues\n",
    "GM2 = GP2 / R2                                  # simulation output: Gross Margin\n",
    "C2 = R2 - GP2                                   # simulation output: Total Cost"
   ]
  },
  {
   "cell_type": "code",
   "execution_count": 22,
   "metadata": {},
   "outputs": [
    {
     "data": {
      "text/html": [
       "<div>\n",
       "<style scoped>\n",
       "    .dataframe tbody tr th:only-of-type {\n",
       "        vertical-align: middle;\n",
       "    }\n",
       "\n",
       "    .dataframe tbody tr th {\n",
       "        vertical-align: top;\n",
       "    }\n",
       "\n",
       "    .dataframe thead th {\n",
       "        text-align: right;\n",
       "    }\n",
       "</style>\n",
       "<table border=\"1\" class=\"dataframe\">\n",
       "  <thead>\n",
       "    <tr style=\"text-align: right;\">\n",
       "      <th></th>\n",
       "      <th>volume 2</th>\n",
       "      <th>price 2</th>\n",
       "      <th>material 2</th>\n",
       "      <th>Gross Profit 2</th>\n",
       "      <th>Revenues 2</th>\n",
       "      <th>Gross Margin 2</th>\n",
       "    </tr>\n",
       "  </thead>\n",
       "  <tbody>\n",
       "    <tr>\n",
       "      <th>0</th>\n",
       "      <td>10932.733</td>\n",
       "      <td>20.184</td>\n",
       "      <td>13.037</td>\n",
       "      <td>45333.402</td>\n",
       "      <td>220666.874</td>\n",
       "      <td>0.205</td>\n",
       "    </tr>\n",
       "    <tr>\n",
       "      <th>1</th>\n",
       "      <td>12252.822</td>\n",
       "      <td>19.145</td>\n",
       "      <td>12.322</td>\n",
       "      <td>46847.984</td>\n",
       "      <td>234582.825</td>\n",
       "      <td>0.200</td>\n",
       "    </tr>\n",
       "    <tr>\n",
       "      <th>2</th>\n",
       "      <td>10144.324</td>\n",
       "      <td>21.611</td>\n",
       "      <td>13.337</td>\n",
       "      <td>53500.895</td>\n",
       "      <td>219225.321</td>\n",
       "      <td>0.244</td>\n",
       "    </tr>\n",
       "    <tr>\n",
       "      <th>3</th>\n",
       "      <td>12868.642</td>\n",
       "      <td>20.959</td>\n",
       "      <td>14.209</td>\n",
       "      <td>48246.636</td>\n",
       "      <td>269708.073</td>\n",
       "      <td>0.179</td>\n",
       "    </tr>\n",
       "    <tr>\n",
       "      <th>4</th>\n",
       "      <td>11538.153</td>\n",
       "      <td>19.537</td>\n",
       "      <td>13.183</td>\n",
       "      <td>38703.353</td>\n",
       "      <td>225426.486</td>\n",
       "      <td>0.172</td>\n",
       "    </tr>\n",
       "    <tr>\n",
       "      <th>...</th>\n",
       "      <td>...</td>\n",
       "      <td>...</td>\n",
       "      <td>...</td>\n",
       "      <td>...</td>\n",
       "      <td>...</td>\n",
       "      <td>...</td>\n",
       "    </tr>\n",
       "    <tr>\n",
       "      <th>9995</th>\n",
       "      <td>9807.729</td>\n",
       "      <td>21.279</td>\n",
       "      <td>13.383</td>\n",
       "      <td>48018.851</td>\n",
       "      <td>208702.273</td>\n",
       "      <td>0.230</td>\n",
       "    </tr>\n",
       "    <tr>\n",
       "      <th>9996</th>\n",
       "      <td>13465.271</td>\n",
       "      <td>21.248</td>\n",
       "      <td>13.797</td>\n",
       "      <td>59931.027</td>\n",
       "      <td>286107.010</td>\n",
       "      <td>0.209</td>\n",
       "    </tr>\n",
       "    <tr>\n",
       "      <th>9997</th>\n",
       "      <td>13329.834</td>\n",
       "      <td>19.300</td>\n",
       "      <td>12.828</td>\n",
       "      <td>46281.932</td>\n",
       "      <td>257264.951</td>\n",
       "      <td>0.180</td>\n",
       "    </tr>\n",
       "    <tr>\n",
       "      <th>9998</th>\n",
       "      <td>13084.746</td>\n",
       "      <td>18.102</td>\n",
       "      <td>12.267</td>\n",
       "      <td>37089.499</td>\n",
       "      <td>236860.287</td>\n",
       "      <td>0.157</td>\n",
       "    </tr>\n",
       "    <tr>\n",
       "      <th>9999</th>\n",
       "      <td>10386.516</td>\n",
       "      <td>21.032</td>\n",
       "      <td>13.453</td>\n",
       "      <td>47551.377</td>\n",
       "      <td>218445.450</td>\n",
       "      <td>0.218</td>\n",
       "    </tr>\n",
       "  </tbody>\n",
       "</table>\n",
       "<p>10000 rows × 6 columns</p>\n",
       "</div>"
      ],
      "text/plain": [
       "      volume 2  price 2  material 2  Gross Profit 2  Revenues 2  \\\n",
       "0    10932.733   20.184      13.037       45333.402  220666.874   \n",
       "1    12252.822   19.145      12.322       46847.984  234582.825   \n",
       "2    10144.324   21.611      13.337       53500.895  219225.321   \n",
       "3    12868.642   20.959      14.209       48246.636  269708.073   \n",
       "4    11538.153   19.537      13.183       38703.353  225426.486   \n",
       "...        ...      ...         ...             ...         ...   \n",
       "9995  9807.729   21.279      13.383       48018.851  208702.273   \n",
       "9996 13465.271   21.248      13.797       59931.027  286107.010   \n",
       "9997 13329.834   19.300      12.828       46281.932  257264.951   \n",
       "9998 13084.746   18.102      12.267       37089.499  236860.287   \n",
       "9999 10386.516   21.032      13.453       47551.377  218445.450   \n",
       "\n",
       "      Gross Margin 2  \n",
       "0              0.205  \n",
       "1              0.200  \n",
       "2              0.244  \n",
       "3              0.179  \n",
       "4              0.172  \n",
       "...              ...  \n",
       "9995           0.230  \n",
       "9996           0.209  \n",
       "9997           0.180  \n",
       "9998           0.157  \n",
       "9999           0.218  \n",
       "\n",
       "[10000 rows x 6 columns]"
      ]
     },
     "execution_count": 22,
     "metadata": {},
     "output_type": "execute_result"
    }
   ],
   "source": [
    "# assign the 6x 10,000 variates to 6 variables so we can process their arrays later\n",
    "rv2 = v2._mcpts\n",
    "rp2 = p2._mcpts\n",
    "rm2 = m2._mcpts\n",
    "rGP2 = GP2._mcpts\n",
    "rR2 = R2._mcpts\n",
    "rGM2 = GM2._mcpts\n",
    "\n",
    "# combine the 6 arrays in a 2-dimensional array\n",
    "rand2 = np.vstack((rv2, rp2, rm2, rGP2, rR2, rGM2))\n",
    "\n",
    "# copy the array to a dataframe for a more transparent layout\n",
    "df2 = pd.DataFrame(data=rand2).T \n",
    "df2.rename(columns={ \n",
    "    0:\"volume 2\", 1:\"price 2\", 2:\"material 2\", 3:\"Gross Profit 2\", 4:\"Revenues 2\", 5:\"Gross Margin 2\"}, \n",
    "    inplace=True)\n",
    "df2"
   ]
  },
  {
   "cell_type": "code",
   "execution_count": 23,
   "metadata": {},
   "outputs": [
    {
     "data": {
      "image/png": "[encoded data removed]",
      "text/plain": [
       "<Figure size 432x288 with 1 Axes>"
      ]
     },
     "metadata": {
      "needs_background": "light"
     },
     "output_type": "display_data"
    }
   ],
   "source": [
    "# results: draw histograms\n",
    "plot_hist(rGP2, \"Gross Profit\")\n"
   ]
  },
  {
   "cell_type": "code",
   "execution_count": 24,
   "metadata": {},
   "outputs": [
    {
     "name": "stdout",
     "output_type": "stream",
     "text": [
      "Moments of Gross Profit target variable: before vs after recalibrating correlations:\n"
     ]
    },
    {
     "data": {
      "text/html": [
       "<div>\n",
       "<style scoped>\n",
       "    .dataframe tbody tr th:only-of-type {\n",
       "        vertical-align: middle;\n",
       "    }\n",
       "\n",
       "    .dataframe tbody tr th {\n",
       "        vertical-align: top;\n",
       "    }\n",
       "\n",
       "    .dataframe thead th {\n",
       "        text-align: right;\n",
       "    }\n",
       "</style>\n",
       "<table border=\"1\" class=\"dataframe\">\n",
       "  <thead>\n",
       "    <tr style=\"text-align: right;\">\n",
       "      <th></th>\n",
       "      <th>before</th>\n",
       "      <th>after</th>\n",
       "      <th>variance</th>\n",
       "      <th>%var</th>\n",
       "    </tr>\n",
       "  </thead>\n",
       "  <tbody>\n",
       "    <tr>\n",
       "      <th>mean</th>\n",
       "      <td>49351.360</td>\n",
       "      <td>48514.645</td>\n",
       "      <td>-836.715</td>\n",
       "      <td>-0.017</td>\n",
       "    </tr>\n",
       "    <tr>\n",
       "      <th>std</th>\n",
       "      <td>16815.830</td>\n",
       "      <td>7371.603</td>\n",
       "      <td>-9444.226</td>\n",
       "      <td>-0.562</td>\n",
       "    </tr>\n",
       "    <tr>\n",
       "      <th>skew</th>\n",
       "      <td>0.349</td>\n",
       "      <td>0.206</td>\n",
       "      <td>-0.143</td>\n",
       "      <td>-0.410</td>\n",
       "    </tr>\n",
       "    <tr>\n",
       "      <th>kurt</th>\n",
       "      <td>3.290</td>\n",
       "      <td>3.160</td>\n",
       "      <td>-0.129</td>\n",
       "      <td>-0.039</td>\n",
       "    </tr>\n",
       "  </tbody>\n",
       "</table>\n",
       "</div>"
      ],
      "text/plain": [
       "        before     after  variance   %var\n",
       "mean 49351.360 48514.645  -836.715 -0.017\n",
       "std  16815.830  7371.603 -9444.226 -0.562\n",
       "skew     0.349     0.206    -0.143 -0.410\n",
       "kurt     3.290     3.160    -0.129 -0.039"
      ]
     },
     "execution_count": 24,
     "metadata": {},
     "output_type": "execute_result"
    }
   ],
   "source": [
    "# compare the main moments of the Gross Profit variable between the 2 simulation models:\n",
    "moments_names = [\"mean\", \"std\", \"skew\", \"kurt\"]\n",
    "moments2 = [GP2.mean, GP2.std, GP2.skew, GP2.kurt]\n",
    "\n",
    "df = pd.DataFrame([moments1, moments2], columns=moments_names).T\n",
    "df.rename(columns={0:\"before\", 1:\"after\"}, inplace=True)\n",
    "df[\"variance\"] = df[\"after\"] - df[\"before\"] \n",
    "df[\"%var\"] = df[\"variance\"] / df[\"before\"] \n",
    "print(\"Moments of Gross Profit target variable: before vs after recalibrating correlations:\")\n",
    "df"
   ]
  },
  {
   "cell_type": "code",
   "execution_count": 25,
   "metadata": {},
   "outputs": [
    {
     "name": "stdout",
     "output_type": "stream",
     "text": [
      "\n",
      "quantiles:\n",
      "0.001 : 26,956\n",
      "0.010 : 32,025\n",
      "0.050 : 36,971\n",
      "0.100 : 39,360\n",
      "0.150 : 41,092\n",
      "0.200 : 42,352\n",
      "0.250 : 43,487\n",
      "0.300 : 44,519\n",
      "0.350 : 45,495\n",
      "0.400 : 46,379\n",
      "0.450 : 47,303\n",
      "0.500 : 48,171\n",
      "0.550 : 49,135\n",
      "0.600 : 50,063\n",
      "0.650 : 51,042\n",
      "0.700 : 52,112\n",
      "0.750 : 53,230\n",
      "0.800 : 54,552\n",
      "0.850 : 56,142\n",
      "0.900 : 58,088\n",
      "0.990 : 67,150\n",
      "0.999 : 72,315\n"
     ]
    }
   ],
   "source": [
    "    # quantiles of Gross Profit:\n",
    "    q1 = np.array([0.001, 0.01, 0.99, 0.999])\n",
    "    q2 = np.arange(0.05, 0.95, 0.05)\n",
    "    q = np.concatenate((q1,q2))\n",
    "    q.sort()\n",
    "    xq = np.quantile(rGP2, q)\n",
    "    \n",
    "    qstr = [str(f'{v:.3f}') for v in q]\n",
    "    dict_quantiles = dict(zip(qstr, xq))\n",
    "    print(\"\\nquantiles:\")\n",
    "    _ = [print(q,\":\",f'{xq:,.0f}') for q,xq in dict_quantiles.items()]"
   ]
  }
 ],
 "metadata": {
  "interpreter": {
   "hash": "b70fa266638dda0426a5eab4dda77c10abfc338a73007e59a14299ee06b27f88"
  },
  "kernelspec": {
   "display_name": "Python 3.8.5 64-bit ('ho03': conda)",
   "name": "python3"
  },
  "language_info": {
   "codemirror_mode": {
    "name": "ipython",
    "version": 3
   },
   "file_extension": ".py",
   "mimetype": "text/x-python",
   "name": "python",
   "nbconvert_exporter": "python",
   "pygments_lexer": "ipython3",
   "version": "3.8.5"
  },
  "orig_nbformat": 4
 },
 "nbformat": 4,
 "nbformat_minor": 2
}
